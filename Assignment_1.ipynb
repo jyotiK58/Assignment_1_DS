{
  "metadata": {
    "kernelspec": {
      "name": "python",
      "display_name": "Python (Pyodide)",
      "language": "python"
    },
    "language_info": {
      "codemirror_mode": {
        "name": "python",
        "version": 3
      },
      "file_extension": ".py",
      "mimetype": "text/x-python",
      "name": "python",
      "nbconvert_exporter": "python",
      "pygments_lexer": "ipython3",
      "version": "3.8"
    }
  },
  "nbformat_minor": 4,
  "nbformat": 4,
  "cells": [
    {
      "cell_type": "code",
      "source": "",
      "metadata": {
        "trusted": true
      },
      "outputs": [],
      "execution_count": null
    },
    {
      "cell_type": "markdown",
      "source": "### Qno.4) Create a list of your favorite movies and print it. Then, append a new movie to the list and print the updated list.",
      "metadata": {}
    },
    {
      "cell_type": "code",
      "source": "list_movie = [\"Soulmate\",\"20th Centurary Girl\",\"Mr.Queen\"]\nprint(list_movie)",
      "metadata": {
        "trusted": true
      },
      "outputs": [
        {
          "name": "stdout",
          "text": "['Soulmate', '20th Centurary Girl', 'Mr.Queen']\n",
          "output_type": "stream"
        }
      ],
      "execution_count": 2
    },
    {
      "cell_type": "code",
      "source": "list_movie2 = [\"Little Women\",\"Reply 1998\"]\nlist_movie.append(list_movie2)\nprint(list_movie)",
      "metadata": {
        "trusted": true
      },
      "outputs": [
        {
          "name": "stdout",
          "text": "['Soulmate', '20th Centurary Girl', 'Mr.Queen', ['Little Women', 'Reply 1998']]\n",
          "output_type": "stream"
        }
      ],
      "execution_count": 3
    },
    {
      "cell_type": "markdown",
      "source": "### Q.no5) Create a list of integers from 1 to 10 and print it. Calculate the sum of all the numbers in the list and print the result.",
      "metadata": {}
    },
    {
      "cell_type": "code",
      "source": "list_num = [1,2,3,4,5,6,7,8,9,10]\nfor num in list_num:\n    print(num)\n",
      "metadata": {
        "trusted": true
      },
      "outputs": [
        {
          "name": "stdout",
          "text": "1\n2\n3\n4\n5\n6\n7\n8\n9\n10\n",
          "output_type": "stream"
        }
      ],
      "execution_count": 7
    },
    {
      "cell_type": "code",
      "source": "result = 0\nfor num in list_num:\n  result += num\nprint(\"Sum of numbers is\" , result)",
      "metadata": {
        "trusted": true
      },
      "outputs": [
        {
          "name": "stdout",
          "text": "Sum of numbers is 55\n",
          "output_type": "stream"
        }
      ],
      "execution_count": 11
    },
    {
      "cell_type": "markdown",
      "source": "### Q.no6) Create a list of mixed data types including strings, integers, and floats and print it. Remove the first element from the list and print the modified list.",
      "metadata": {}
    },
    {
      "cell_type": "code",
      "source": "mixed_data = [\"Tom\",\"Jerry\",1,2,3,8.80,10.89]\nprint(mixed_data)",
      "metadata": {
        "trusted": true
      },
      "outputs": [
        {
          "name": "stdout",
          "text": "['Tom', 'Jerry', 1, 2, 3, 8.8, 10.89]\n",
          "output_type": "stream"
        }
      ],
      "execution_count": 14
    },
    {
      "cell_type": "code",
      "source": "modified_data = mixed_data.pop(0)\nprint(modified_data)",
      "metadata": {
        "trusted": true
      },
      "outputs": [
        {
          "name": "stdout",
          "text": "Tom\n",
          "output_type": "stream"
        }
      ],
      "execution_count": 15
    },
    {
      "cell_type": "markdown",
      "source": "### Q.no7) Create a tuple containing the names of the days of the week and print it. Access and print the name of the third day.",
      "metadata": {}
    },
    {
      "cell_type": "code",
      "source": "days = (\"Sunday\",\"Monday\",\"Tuesday\",\"Wednesday\",\"Thursday\",\"Friday\",\"Saturday\")\nfor day in days:\n    print (day)",
      "metadata": {
        "trusted": true
      },
      "outputs": [
        {
          "name": "stdout",
          "text": "Sunday\nMonday\nTuesday\nWednesday\nThursday\nFriday\nSaturday\n",
          "output_type": "stream"
        }
      ],
      "execution_count": 17
    },
    {
      "cell_type": "code",
      "source": "print(days[3])",
      "metadata": {
        "trusted": true
      },
      "outputs": [
        {
          "name": "stdout",
          "text": "Wednesday\n",
          "output_type": "stream"
        }
      ],
      "execution_count": 19
    },
    {
      "cell_type": "markdown",
      "source": "### Q.no8) Create a tuple of your favorite colors and print it. Check if a certain color is present in the tuple and print the result.",
      "metadata": {}
    },
    {
      "cell_type": "code",
      "source": "colors = (\"Red\",\"Pink\",\"Green\")\nprint(colors)",
      "metadata": {
        "trusted": true
      },
      "outputs": [
        {
          "name": "stdout",
          "text": "('Red', 'Pink', 'Green')\n",
          "output_type": "stream"
        }
      ],
      "execution_count": 21
    },
    {
      "cell_type": "code",
      "source": "if \"Pink\" in colors:\n    print(\"Pink\")",
      "metadata": {
        "trusted": true
      },
      "outputs": [
        {
          "name": "stdout",
          "text": "Pink\n",
          "output_type": "stream"
        }
      ],
      "execution_count": 23
    },
    {
      "cell_type": "markdown",
      "source": "### Q.no9)Create a dictionary representing the information of a book with keys \"title\", \"author\", and \"year\" and print it. Update the year of the book and print the updated dictionary.",
      "metadata": {}
    },
    {
      "cell_type": "code",
      "source": "book = {\n    \"title\":\"Occean\",\n    \"author\":\"Evan\",\n    \"year\":1978\n}\nprint(book)",
      "metadata": {
        "trusted": true
      },
      "outputs": [
        {
          "name": "stdout",
          "text": "{'title': 'Occean', 'author': 'Evan', 'year': 1978}\n",
          "output_type": "stream"
        }
      ],
      "execution_count": 25
    },
    {
      "cell_type": "code",
      "source": "book.update({\"year\":2001})\nprint(book)",
      "metadata": {
        "trusted": true
      },
      "outputs": [
        {
          "name": "stdout",
          "text": "{'title': 'Occean', 'author': 'Evan', 'year': 2001}\n",
          "output_type": "stream"
        }
      ],
      "execution_count": 26
    },
    {
      "cell_type": "markdown",
      "source": "### Q.no10)Create a dictionary containing the names of fruits as keys and their corresponding colors as values and print it. Add a new fruit-color pair to the dictionary and print the updated dictionary.",
      "metadata": {}
    },
    {
      "cell_type": "code",
      "source": "names = {\n    \"Orange\" : \"Orange\",\n    \"Apple\" : \"Red\",\n    \"Lemon\" : \"Green\",\n}\nprint(names)",
      "metadata": {
        "trusted": true
      },
      "outputs": [
        {
          "name": "stdout",
          "text": "{'Orange': 'Orange', 'Apple': 'Red', 'Lemon': 'Green'}\n",
          "output_type": "stream"
        }
      ],
      "execution_count": 27
    },
    {
      "cell_type": "code",
      "source": "names[\"strawberry\"] = \"Pink\"\nprint(names)",
      "metadata": {
        "trusted": true
      },
      "outputs": [
        {
          "name": "stdout",
          "text": "{'Orange': 'Orange', 'Apple': 'Red', 'Lemon': 'Green', 'strawberry': 'Pink'}\n",
          "output_type": "stream"
        }
      ],
      "execution_count": 29
    },
    {
      "cell_type": "markdown",
      "source": "### Q.no11)Create a dictionary representing the population of different cities with keys as city names and values as population numbers and print it. Remove a city from the dictionary and print the modified dictionary.",
      "metadata": {}
    },
    {
      "cell_type": "code",
      "source": "population = {\n    \"kathmandu\":2041578,\n    \"Bhaktapur\":79136,\n    \"lalitpur\":551667\n}\nprint(population)",
      "metadata": {
        "trusted": true
      },
      "outputs": [
        {
          "name": "stdout",
          "text": "{'kathmandu': 2041578, 'Bhaktapur': 79136, 'lalitpur': 551667}\n",
          "output_type": "stream"
        }
      ],
      "execution_count": 31
    },
    {
      "cell_type": "code",
      "source": "del population[\"lalitpur\"]\nprint(population)",
      "metadata": {
        "trusted": true
      },
      "outputs": [
        {
          "name": "stdout",
          "text": "{'kathmandu': 2041578, 'Bhaktapur': 79136}\n",
          "output_type": "stream"
        }
      ],
      "execution_count": 34
    },
    {
      "cell_type": "code",
      "source": "",
      "metadata": {
        "trusted": true
      },
      "outputs": [],
      "execution_count": null
    }
  ]
}
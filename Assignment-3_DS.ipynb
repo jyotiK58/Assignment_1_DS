{
 "cells": [
  {
   "cell_type": "code",
   "execution_count": 1,
   "id": "96f51a58-c969-4436-8a9e-5b73113fa80e",
   "metadata": {},
   "outputs": [],
   "source": [
    "import pandas as pd\n",
    "import numpy as np\n",
    "from matplotlib import pyplot as plt\n",
    "import seaborn as sns\n",
    "from sklearn.preprocessing import LabelEncoder\n",
    "scaler = LabelEncoder()\n"
   ]
  },
  {
   "cell_type": "markdown",
   "id": "0bffe6f6-d71d-41e3-a1a0-5ec23d530888",
   "metadata": {},
   "source": [
    "### Read Csv File"
   ]
  },
  {
   "cell_type": "code",
   "execution_count": 2,
   "id": "523f4919-6db6-492d-a510-242b871de236",
   "metadata": {},
   "outputs": [],
   "source": [
    "heart_data = pd.read_csv('heart_disease.csv')"
   ]
  },
  {
   "cell_type": "code",
   "execution_count": 3,
   "id": "9cf7b225-1ca1-42f9-95ba-4ea47386f092",
   "metadata": {},
   "outputs": [
    {
     "data": {
      "text/html": [
       "<div>\n",
       "<style scoped>\n",
       "    .dataframe tbody tr th:only-of-type {\n",
       "        vertical-align: middle;\n",
       "    }\n",
       "\n",
       "    .dataframe tbody tr th {\n",
       "        vertical-align: top;\n",
       "    }\n",
       "\n",
       "    .dataframe thead th {\n",
       "        text-align: right;\n",
       "    }\n",
       "</style>\n",
       "<table border=\"1\" class=\"dataframe\">\n",
       "  <thead>\n",
       "    <tr style=\"text-align: right;\">\n",
       "      <th></th>\n",
       "      <th>HeartDisease</th>\n",
       "      <th>BMI</th>\n",
       "      <th>Smoking</th>\n",
       "      <th>AlcoholDrinking</th>\n",
       "      <th>Stroke</th>\n",
       "      <th>PhysicalHealth</th>\n",
       "      <th>MentalHealth</th>\n",
       "      <th>DiffWalking</th>\n",
       "      <th>Sex</th>\n",
       "      <th>AgeCategory</th>\n",
       "      <th>Race</th>\n",
       "      <th>Diabetic</th>\n",
       "      <th>PhysicalActivity</th>\n",
       "      <th>GenHealth</th>\n",
       "      <th>SleepTime</th>\n",
       "      <th>Asthma</th>\n",
       "      <th>KidneyDisease</th>\n",
       "      <th>SkinCancer</th>\n",
       "    </tr>\n",
       "  </thead>\n",
       "  <tbody>\n",
       "    <tr>\n",
       "      <th>0</th>\n",
       "      <td>No</td>\n",
       "      <td>16.60</td>\n",
       "      <td>Yes</td>\n",
       "      <td>No</td>\n",
       "      <td>No</td>\n",
       "      <td>3.0</td>\n",
       "      <td>30.0</td>\n",
       "      <td>No</td>\n",
       "      <td>Female</td>\n",
       "      <td>55-59</td>\n",
       "      <td>White</td>\n",
       "      <td>Yes</td>\n",
       "      <td>Yes</td>\n",
       "      <td>Very good</td>\n",
       "      <td>5.0</td>\n",
       "      <td>Yes</td>\n",
       "      <td>No</td>\n",
       "      <td>Yes</td>\n",
       "    </tr>\n",
       "    <tr>\n",
       "      <th>1</th>\n",
       "      <td>No</td>\n",
       "      <td>20.34</td>\n",
       "      <td>No</td>\n",
       "      <td>No</td>\n",
       "      <td>Yes</td>\n",
       "      <td>0.0</td>\n",
       "      <td>0.0</td>\n",
       "      <td>No</td>\n",
       "      <td>Female</td>\n",
       "      <td>80 or older</td>\n",
       "      <td>White</td>\n",
       "      <td>No</td>\n",
       "      <td>Yes</td>\n",
       "      <td>Very good</td>\n",
       "      <td>7.0</td>\n",
       "      <td>No</td>\n",
       "      <td>No</td>\n",
       "      <td>No</td>\n",
       "    </tr>\n",
       "    <tr>\n",
       "      <th>2</th>\n",
       "      <td>No</td>\n",
       "      <td>26.58</td>\n",
       "      <td>Yes</td>\n",
       "      <td>No</td>\n",
       "      <td>No</td>\n",
       "      <td>20.0</td>\n",
       "      <td>30.0</td>\n",
       "      <td>No</td>\n",
       "      <td>Male</td>\n",
       "      <td>65-69</td>\n",
       "      <td>White</td>\n",
       "      <td>Yes</td>\n",
       "      <td>Yes</td>\n",
       "      <td>Fair</td>\n",
       "      <td>8.0</td>\n",
       "      <td>Yes</td>\n",
       "      <td>No</td>\n",
       "      <td>No</td>\n",
       "    </tr>\n",
       "    <tr>\n",
       "      <th>3</th>\n",
       "      <td>No</td>\n",
       "      <td>24.21</td>\n",
       "      <td>No</td>\n",
       "      <td>No</td>\n",
       "      <td>No</td>\n",
       "      <td>0.0</td>\n",
       "      <td>0.0</td>\n",
       "      <td>No</td>\n",
       "      <td>Female</td>\n",
       "      <td>75-79</td>\n",
       "      <td>White</td>\n",
       "      <td>No</td>\n",
       "      <td>No</td>\n",
       "      <td>Good</td>\n",
       "      <td>6.0</td>\n",
       "      <td>No</td>\n",
       "      <td>No</td>\n",
       "      <td>Yes</td>\n",
       "    </tr>\n",
       "    <tr>\n",
       "      <th>4</th>\n",
       "      <td>No</td>\n",
       "      <td>23.71</td>\n",
       "      <td>No</td>\n",
       "      <td>No</td>\n",
       "      <td>No</td>\n",
       "      <td>28.0</td>\n",
       "      <td>0.0</td>\n",
       "      <td>Yes</td>\n",
       "      <td>Female</td>\n",
       "      <td>40-44</td>\n",
       "      <td>White</td>\n",
       "      <td>No</td>\n",
       "      <td>Yes</td>\n",
       "      <td>Very good</td>\n",
       "      <td>8.0</td>\n",
       "      <td>No</td>\n",
       "      <td>No</td>\n",
       "      <td>No</td>\n",
       "    </tr>\n",
       "    <tr>\n",
       "      <th>...</th>\n",
       "      <td>...</td>\n",
       "      <td>...</td>\n",
       "      <td>...</td>\n",
       "      <td>...</td>\n",
       "      <td>...</td>\n",
       "      <td>...</td>\n",
       "      <td>...</td>\n",
       "      <td>...</td>\n",
       "      <td>...</td>\n",
       "      <td>...</td>\n",
       "      <td>...</td>\n",
       "      <td>...</td>\n",
       "      <td>...</td>\n",
       "      <td>...</td>\n",
       "      <td>...</td>\n",
       "      <td>...</td>\n",
       "      <td>...</td>\n",
       "      <td>...</td>\n",
       "    </tr>\n",
       "    <tr>\n",
       "      <th>319790</th>\n",
       "      <td>Yes</td>\n",
       "      <td>27.41</td>\n",
       "      <td>Yes</td>\n",
       "      <td>No</td>\n",
       "      <td>No</td>\n",
       "      <td>7.0</td>\n",
       "      <td>0.0</td>\n",
       "      <td>Yes</td>\n",
       "      <td>Male</td>\n",
       "      <td>60-64</td>\n",
       "      <td>Hispanic</td>\n",
       "      <td>Yes</td>\n",
       "      <td>No</td>\n",
       "      <td>Fair</td>\n",
       "      <td>6.0</td>\n",
       "      <td>Yes</td>\n",
       "      <td>No</td>\n",
       "      <td>No</td>\n",
       "    </tr>\n",
       "    <tr>\n",
       "      <th>319791</th>\n",
       "      <td>No</td>\n",
       "      <td>29.84</td>\n",
       "      <td>Yes</td>\n",
       "      <td>No</td>\n",
       "      <td>No</td>\n",
       "      <td>0.0</td>\n",
       "      <td>0.0</td>\n",
       "      <td>No</td>\n",
       "      <td>Male</td>\n",
       "      <td>35-39</td>\n",
       "      <td>Hispanic</td>\n",
       "      <td>No</td>\n",
       "      <td>Yes</td>\n",
       "      <td>Very good</td>\n",
       "      <td>5.0</td>\n",
       "      <td>Yes</td>\n",
       "      <td>No</td>\n",
       "      <td>No</td>\n",
       "    </tr>\n",
       "    <tr>\n",
       "      <th>319792</th>\n",
       "      <td>No</td>\n",
       "      <td>24.24</td>\n",
       "      <td>No</td>\n",
       "      <td>No</td>\n",
       "      <td>No</td>\n",
       "      <td>0.0</td>\n",
       "      <td>0.0</td>\n",
       "      <td>No</td>\n",
       "      <td>Female</td>\n",
       "      <td>45-49</td>\n",
       "      <td>Hispanic</td>\n",
       "      <td>No</td>\n",
       "      <td>Yes</td>\n",
       "      <td>Good</td>\n",
       "      <td>6.0</td>\n",
       "      <td>No</td>\n",
       "      <td>No</td>\n",
       "      <td>No</td>\n",
       "    </tr>\n",
       "    <tr>\n",
       "      <th>319793</th>\n",
       "      <td>No</td>\n",
       "      <td>32.81</td>\n",
       "      <td>No</td>\n",
       "      <td>No</td>\n",
       "      <td>No</td>\n",
       "      <td>0.0</td>\n",
       "      <td>0.0</td>\n",
       "      <td>No</td>\n",
       "      <td>Female</td>\n",
       "      <td>25-29</td>\n",
       "      <td>Hispanic</td>\n",
       "      <td>No</td>\n",
       "      <td>No</td>\n",
       "      <td>Good</td>\n",
       "      <td>12.0</td>\n",
       "      <td>No</td>\n",
       "      <td>No</td>\n",
       "      <td>No</td>\n",
       "    </tr>\n",
       "    <tr>\n",
       "      <th>319794</th>\n",
       "      <td>No</td>\n",
       "      <td>46.56</td>\n",
       "      <td>No</td>\n",
       "      <td>No</td>\n",
       "      <td>No</td>\n",
       "      <td>0.0</td>\n",
       "      <td>0.0</td>\n",
       "      <td>No</td>\n",
       "      <td>Female</td>\n",
       "      <td>80 or older</td>\n",
       "      <td>Hispanic</td>\n",
       "      <td>No</td>\n",
       "      <td>Yes</td>\n",
       "      <td>Good</td>\n",
       "      <td>8.0</td>\n",
       "      <td>No</td>\n",
       "      <td>No</td>\n",
       "      <td>No</td>\n",
       "    </tr>\n",
       "  </tbody>\n",
       "</table>\n",
       "<p>319795 rows × 18 columns</p>\n",
       "</div>"
      ],
      "text/plain": [
       "       HeartDisease    BMI Smoking AlcoholDrinking Stroke  PhysicalHealth  \\\n",
       "0                No  16.60     Yes              No     No             3.0   \n",
       "1                No  20.34      No              No    Yes             0.0   \n",
       "2                No  26.58     Yes              No     No            20.0   \n",
       "3                No  24.21      No              No     No             0.0   \n",
       "4                No  23.71      No              No     No            28.0   \n",
       "...             ...    ...     ...             ...    ...             ...   \n",
       "319790          Yes  27.41     Yes              No     No             7.0   \n",
       "319791           No  29.84     Yes              No     No             0.0   \n",
       "319792           No  24.24      No              No     No             0.0   \n",
       "319793           No  32.81      No              No     No             0.0   \n",
       "319794           No  46.56      No              No     No             0.0   \n",
       "\n",
       "        MentalHealth DiffWalking     Sex  AgeCategory      Race Diabetic  \\\n",
       "0               30.0          No  Female        55-59     White      Yes   \n",
       "1                0.0          No  Female  80 or older     White       No   \n",
       "2               30.0          No    Male        65-69     White      Yes   \n",
       "3                0.0          No  Female        75-79     White       No   \n",
       "4                0.0         Yes  Female        40-44     White       No   \n",
       "...              ...         ...     ...          ...       ...      ...   \n",
       "319790           0.0         Yes    Male        60-64  Hispanic      Yes   \n",
       "319791           0.0          No    Male        35-39  Hispanic       No   \n",
       "319792           0.0          No  Female        45-49  Hispanic       No   \n",
       "319793           0.0          No  Female        25-29  Hispanic       No   \n",
       "319794           0.0          No  Female  80 or older  Hispanic       No   \n",
       "\n",
       "       PhysicalActivity  GenHealth  SleepTime Asthma KidneyDisease SkinCancer  \n",
       "0                   Yes  Very good        5.0    Yes            No        Yes  \n",
       "1                   Yes  Very good        7.0     No            No         No  \n",
       "2                   Yes       Fair        8.0    Yes            No         No  \n",
       "3                    No       Good        6.0     No            No        Yes  \n",
       "4                   Yes  Very good        8.0     No            No         No  \n",
       "...                 ...        ...        ...    ...           ...        ...  \n",
       "319790               No       Fair        6.0    Yes            No         No  \n",
       "319791              Yes  Very good        5.0    Yes            No         No  \n",
       "319792              Yes       Good        6.0     No            No         No  \n",
       "319793               No       Good       12.0     No            No         No  \n",
       "319794              Yes       Good        8.0     No            No         No  \n",
       "\n",
       "[319795 rows x 18 columns]"
      ]
     },
     "execution_count": 3,
     "metadata": {},
     "output_type": "execute_result"
    }
   ],
   "source": [
    "heart_data"
   ]
  },
  {
   "cell_type": "markdown",
   "id": "e0acad1b-900e-47c7-a83a-c6fc1823ae53",
   "metadata": {},
   "source": [
    "### check how many columns have empty entry"
   ]
  },
  {
   "cell_type": "code",
   "execution_count": 4,
   "id": "7bad520b-ff0c-46d8-9759-18a13e3e384e",
   "metadata": {},
   "outputs": [
    {
     "data": {
      "text/plain": [
       "HeartDisease          0\n",
       "BMI                   6\n",
       "Smoking              74\n",
       "AlcoholDrinking     115\n",
       "Stroke               21\n",
       "PhysicalHealth       17\n",
       "MentalHealth         14\n",
       "DiffWalking          33\n",
       "Sex                 313\n",
       "AgeCategory          44\n",
       "Race                 39\n",
       "Diabetic             33\n",
       "PhysicalActivity     16\n",
       "GenHealth           493\n",
       "SleepTime           219\n",
       "Asthma                0\n",
       "KidneyDisease        17\n",
       "SkinCancer            0\n",
       "dtype: int64"
      ]
     },
     "execution_count": 4,
     "metadata": {},
     "output_type": "execute_result"
    }
   ],
   "source": [
    "heart_data.isna().sum()"
   ]
  },
  {
   "cell_type": "markdown",
   "id": "5a5f6e03-a2bd-4477-bb18-9e7628c3fd71",
   "metadata": {},
   "source": [
    "### 1. Filling missing data for BMI"
   ]
  },
  {
   "cell_type": "code",
   "execution_count": 5,
   "id": "3a02d511-deba-42ea-85c8-8f02dd73e02b",
   "metadata": {},
   "outputs": [
    {
     "data": {
      "text/plain": [
       "0         16.60\n",
       "1         20.34\n",
       "2         26.58\n",
       "3         24.21\n",
       "4         23.71\n",
       "          ...  \n",
       "319790    27.41\n",
       "319791    29.84\n",
       "319792    24.24\n",
       "319793    32.81\n",
       "319794    46.56\n",
       "Name: BMI, Length: 319795, dtype: float64"
      ]
     },
     "execution_count": 5,
     "metadata": {},
     "output_type": "execute_result"
    }
   ],
   "source": [
    "heart_data.BMI"
   ]
  },
  {
   "cell_type": "markdown",
   "id": "f7c419d5-9dec-40f6-ba0a-65224604e0ae",
   "metadata": {},
   "source": [
    "###  type of float , so we can fill float data"
   ]
  },
  {
   "cell_type": "code",
   "execution_count": 6,
   "id": "13602911-fec6-4690-928f-5a8ccaed66ac",
   "metadata": {},
   "outputs": [],
   "source": [
    "heart_data['BMI'].fillna(34.3,inplace=True)\n"
   ]
  },
  {
   "cell_type": "code",
   "execution_count": 7,
   "id": "a21a2dbd-6eef-4f6e-a4f0-ad779656806d",
   "metadata": {},
   "outputs": [
    {
     "data": {
      "text/plain": [
       "0"
      ]
     },
     "execution_count": 7,
     "metadata": {},
     "output_type": "execute_result"
    }
   ],
   "source": [
    "heart_data['BMI'].isna().sum()"
   ]
  },
  {
   "cell_type": "markdown",
   "id": "397e0191-8a38-4d29-b523-4829af671b5e",
   "metadata": {},
   "source": [
    " ###  2. Filling missing data for Smoking\n",
    " "
   ]
  },
  {
   "cell_type": "code",
   "execution_count": 8,
   "id": "f5671059-c098-4ece-90d0-4d9c35c3a6a6",
   "metadata": {},
   "outputs": [
    {
     "data": {
      "text/plain": [
       "74"
      ]
     },
     "execution_count": 8,
     "metadata": {},
     "output_type": "execute_result"
    }
   ],
   "source": [
    "heart_data['Smoking'].isna().sum()"
   ]
  },
  {
   "cell_type": "code",
   "execution_count": 9,
   "id": "0b002557-241d-4705-a368-27299501d3d4",
   "metadata": {},
   "outputs": [
    {
     "data": {
      "text/plain": [
       "0         Yes\n",
       "1          No\n",
       "2         Yes\n",
       "3          No\n",
       "4          No\n",
       "         ... \n",
       "319790    Yes\n",
       "319791    Yes\n",
       "319792     No\n",
       "319793     No\n",
       "319794     No\n",
       "Name: Smoking, Length: 319795, dtype: object"
      ]
     },
     "execution_count": 9,
     "metadata": {},
     "output_type": "execute_result"
    }
   ],
   "source": [
    "heart_data['Smoking']"
   ]
  },
  {
   "cell_type": "markdown",
   "id": "2d88460f-ea05-4b73-ad32-9ac235f791be",
   "metadata": {},
   "source": [
    "### Boolean value can be filled"
   ]
  },
  {
   "cell_type": "code",
   "execution_count": 10,
   "id": "f13a063d-fb62-47bb-a4bf-d6f9160b3a4b",
   "metadata": {},
   "outputs": [],
   "source": [
    "heart_data['Smoking'].fillna(True,inplace=True)"
   ]
  },
  {
   "cell_type": "code",
   "execution_count": 11,
   "id": "3b251aeb-78ef-457e-b519-9300bd7c4140",
   "metadata": {},
   "outputs": [
    {
     "data": {
      "text/plain": [
       "0"
      ]
     },
     "execution_count": 11,
     "metadata": {},
     "output_type": "execute_result"
    }
   ],
   "source": [
    "heart_data['Smoking'].isna().sum()"
   ]
  },
  {
   "cell_type": "markdown",
   "id": "79375417-ed1e-4014-9159-816fed925704",
   "metadata": {},
   "source": [
    "###  3. Filling Missing data for AlcoholDrinking"
   ]
  },
  {
   "cell_type": "code",
   "execution_count": 12,
   "id": "e4d6bb9a-4a8f-4f05-825d-a9b9e21bf1dd",
   "metadata": {},
   "outputs": [
    {
     "data": {
      "text/plain": [
       "115"
      ]
     },
     "execution_count": 12,
     "metadata": {},
     "output_type": "execute_result"
    }
   ],
   "source": [
    "heart_data['AlcoholDrinking'].isna().sum()"
   ]
  },
  {
   "cell_type": "code",
   "execution_count": 13,
   "id": "ba54969c-1249-4651-b45a-0be42bb5fda0",
   "metadata": {},
   "outputs": [
    {
     "data": {
      "text/plain": [
       "0         No\n",
       "1         No\n",
       "2         No\n",
       "3         No\n",
       "4         No\n",
       "          ..\n",
       "319790    No\n",
       "319791    No\n",
       "319792    No\n",
       "319793    No\n",
       "319794    No\n",
       "Name: AlcoholDrinking, Length: 319795, dtype: object"
      ]
     },
     "execution_count": 13,
     "metadata": {},
     "output_type": "execute_result"
    }
   ],
   "source": [
    "heart_data['AlcoholDrinking']"
   ]
  },
  {
   "cell_type": "markdown",
   "id": "84e4a6f9-c425-4a66-bf44-fc4a3d98f4c5",
   "metadata": {},
   "source": [
    "### boolean value can be fiiled , since data is boolean"
   ]
  },
  {
   "cell_type": "code",
   "execution_count": 14,
   "id": "bc69b0e3-5491-403f-8dea-adc55925f996",
   "metadata": {},
   "outputs": [],
   "source": [
    "heart_data['AlcoholDrinking'].fillna(True,inplace=True)"
   ]
  },
  {
   "cell_type": "code",
   "execution_count": 15,
   "id": "6dbf24c7-1348-4b9b-bcc9-14b0ca296d17",
   "metadata": {},
   "outputs": [
    {
     "data": {
      "text/plain": [
       "0"
      ]
     },
     "execution_count": 15,
     "metadata": {},
     "output_type": "execute_result"
    }
   ],
   "source": [
    "heart_data['AlcoholDrinking'].isna().sum()"
   ]
  },
  {
   "cell_type": "markdown",
   "id": "8c73c4c1-5c80-46ae-ba33-1663547726b2",
   "metadata": {},
   "source": [
    "### 4.Filling missing data for Stroke "
   ]
  },
  {
   "cell_type": "code",
   "execution_count": 16,
   "id": "8da78c91-bef7-4989-af5a-21fa01370a46",
   "metadata": {},
   "outputs": [
    {
     "data": {
      "text/plain": [
       "21"
      ]
     },
     "execution_count": 16,
     "metadata": {},
     "output_type": "execute_result"
    }
   ],
   "source": [
    "heart_data['Stroke'].isna().sum()"
   ]
  },
  {
   "cell_type": "code",
   "execution_count": 17,
   "id": "5b6fded6-e1af-48ca-a791-851361747386",
   "metadata": {},
   "outputs": [
    {
     "data": {
      "text/plain": [
       "0          No\n",
       "1         Yes\n",
       "2          No\n",
       "3          No\n",
       "4          No\n",
       "         ... \n",
       "319790     No\n",
       "319791     No\n",
       "319792     No\n",
       "319793     No\n",
       "319794     No\n",
       "Name: Stroke, Length: 319795, dtype: object"
      ]
     },
     "execution_count": 17,
     "metadata": {},
     "output_type": "execute_result"
    }
   ],
   "source": [
    "heart_data['Stroke']"
   ]
  },
  {
   "cell_type": "code",
   "execution_count": 18,
   "id": "82beceba-71a6-46f3-9e07-b00c0d794e11",
   "metadata": {},
   "outputs": [],
   "source": [
    "heart_data['Stroke'].fillna(True,inplace=True)"
   ]
  },
  {
   "cell_type": "code",
   "execution_count": 19,
   "id": "87d73f34-8d2b-47aa-a43f-eac340a50504",
   "metadata": {},
   "outputs": [
    {
     "data": {
      "text/plain": [
       "0"
      ]
     },
     "execution_count": 19,
     "metadata": {},
     "output_type": "execute_result"
    }
   ],
   "source": [
    "heart_data['Stroke'].isna().sum()"
   ]
  },
  {
   "cell_type": "markdown",
   "id": "adf31672-33d4-4878-be2e-2e5b18ce3912",
   "metadata": {},
   "source": [
    "### 5.Fiilling data for PhysicalHealth"
   ]
  },
  {
   "cell_type": "code",
   "execution_count": 20,
   "id": "6f337c28-ea7d-48ae-9be0-8dc73874fa2a",
   "metadata": {},
   "outputs": [
    {
     "data": {
      "text/plain": [
       "17"
      ]
     },
     "execution_count": 20,
     "metadata": {},
     "output_type": "execute_result"
    }
   ],
   "source": [
    "heart_data['PhysicalHealth'].isna().sum()"
   ]
  },
  {
   "cell_type": "code",
   "execution_count": 21,
   "id": "f253bb1a-a155-45cd-a67a-6f985c59048f",
   "metadata": {},
   "outputs": [
    {
     "data": {
      "text/plain": [
       "0          3.0\n",
       "1          0.0\n",
       "2         20.0\n",
       "3          0.0\n",
       "4         28.0\n",
       "          ... \n",
       "319790     7.0\n",
       "319791     0.0\n",
       "319792     0.0\n",
       "319793     0.0\n",
       "319794     0.0\n",
       "Name: PhysicalHealth, Length: 319795, dtype: float64"
      ]
     },
     "execution_count": 21,
     "metadata": {},
     "output_type": "execute_result"
    }
   ],
   "source": [
    "heart_data['PhysicalHealth']"
   ]
  },
  {
   "cell_type": "code",
   "execution_count": 22,
   "id": "6a3e239d-e5a8-4c9c-a55a-3c61016a54fc",
   "metadata": {},
   "outputs": [],
   "source": [
    "heart_data['PhysicalHealth'].fillna(59,inplace=True)"
   ]
  },
  {
   "cell_type": "code",
   "execution_count": 23,
   "id": "399a8ead-0b28-4067-bfef-c8039c7fce0c",
   "metadata": {},
   "outputs": [
    {
     "data": {
      "text/plain": [
       "0"
      ]
     },
     "execution_count": 23,
     "metadata": {},
     "output_type": "execute_result"
    }
   ],
   "source": [
    "heart_data['PhysicalHealth'].isna().sum()"
   ]
  },
  {
   "cell_type": "markdown",
   "id": "c0d8dd2a-abab-4188-bdcb-5fdd2a46f736",
   "metadata": {},
   "source": [
    "### 6. Filling missing data for MentalHealth"
   ]
  },
  {
   "cell_type": "code",
   "execution_count": 24,
   "id": "bbe145d9-030d-4441-bbf2-9694cb80a4c3",
   "metadata": {},
   "outputs": [
    {
     "data": {
      "text/plain": [
       "14"
      ]
     },
     "execution_count": 24,
     "metadata": {},
     "output_type": "execute_result"
    }
   ],
   "source": [
    "heart_data['MentalHealth'].isna().sum()"
   ]
  },
  {
   "cell_type": "code",
   "execution_count": 25,
   "id": "d7575b9b-fc49-4b79-9057-361c522aae73",
   "metadata": {},
   "outputs": [
    {
     "data": {
      "text/plain": [
       "0         30.0\n",
       "1          0.0\n",
       "2         30.0\n",
       "3          0.0\n",
       "4          0.0\n",
       "          ... \n",
       "319790     0.0\n",
       "319791     0.0\n",
       "319792     0.0\n",
       "319793     0.0\n",
       "319794     0.0\n",
       "Name: MentalHealth, Length: 319795, dtype: float64"
      ]
     },
     "execution_count": 25,
     "metadata": {},
     "output_type": "execute_result"
    }
   ],
   "source": [
    "heart_data['MentalHealth']"
   ]
  },
  {
   "cell_type": "code",
   "execution_count": 26,
   "id": "1e675a15-c2f6-4b63-82e4-93d5d85160a9",
   "metadata": {},
   "outputs": [],
   "source": [
    "heart_data['MentalHealth'].fillna(45,inplace=True)"
   ]
  },
  {
   "cell_type": "code",
   "execution_count": 27,
   "id": "732c52fa-b6f8-4a69-8102-b9f6c0b05ef3",
   "metadata": {},
   "outputs": [
    {
     "data": {
      "text/plain": [
       "0"
      ]
     },
     "execution_count": 27,
     "metadata": {},
     "output_type": "execute_result"
    }
   ],
   "source": [
    "heart_data['MentalHealth'].isna().sum()"
   ]
  },
  {
   "cell_type": "markdown",
   "id": "412cfa75-2d92-4a9f-a98d-e89cc5848619",
   "metadata": {},
   "source": [
    "### 7. Filling missing data for DiffWalking"
   ]
  },
  {
   "cell_type": "code",
   "execution_count": 28,
   "id": "4b30e4ad-b5b1-4103-b80d-1101b208f6ca",
   "metadata": {},
   "outputs": [
    {
     "data": {
      "text/plain": [
       "33"
      ]
     },
     "execution_count": 28,
     "metadata": {},
     "output_type": "execute_result"
    }
   ],
   "source": [
    "heart_data['DiffWalking'].isna().sum()"
   ]
  },
  {
   "cell_type": "code",
   "execution_count": 29,
   "id": "6971d909-9d2b-4bc7-8239-ba45f0adfaa4",
   "metadata": {},
   "outputs": [
    {
     "data": {
      "text/plain": [
       "0          No\n",
       "1          No\n",
       "2          No\n",
       "3          No\n",
       "4         Yes\n",
       "         ... \n",
       "319790    Yes\n",
       "319791     No\n",
       "319792     No\n",
       "319793     No\n",
       "319794     No\n",
       "Name: DiffWalking, Length: 319795, dtype: object"
      ]
     },
     "execution_count": 29,
     "metadata": {},
     "output_type": "execute_result"
    }
   ],
   "source": [
    "heart_data['DiffWalking']"
   ]
  },
  {
   "cell_type": "code",
   "execution_count": 30,
   "id": "eca02368-6b6d-4048-a7b3-274b3a3fbaa4",
   "metadata": {},
   "outputs": [],
   "source": [
    "heart_data['DiffWalking'].fillna(True,inplace=True)"
   ]
  },
  {
   "cell_type": "code",
   "execution_count": 31,
   "id": "ee60b918-02ca-4863-9a90-71289abe5b14",
   "metadata": {},
   "outputs": [
    {
     "data": {
      "text/plain": [
       "0"
      ]
     },
     "execution_count": 31,
     "metadata": {},
     "output_type": "execute_result"
    }
   ],
   "source": [
    "heart_data['DiffWalking'].isna().sum()"
   ]
  },
  {
   "cell_type": "markdown",
   "id": "c9a7bfd7-2472-407e-9375-202593fbf237",
   "metadata": {},
   "source": [
    "### 8 .Filling missing data for Sex"
   ]
  },
  {
   "cell_type": "code",
   "execution_count": 32,
   "id": "339822ee-5691-447c-a816-53260ba0e4e2",
   "metadata": {},
   "outputs": [
    {
     "data": {
      "text/plain": [
       "313"
      ]
     },
     "execution_count": 32,
     "metadata": {},
     "output_type": "execute_result"
    }
   ],
   "source": [
    "heart_data['Sex'].isna().sum()"
   ]
  },
  {
   "cell_type": "code",
   "execution_count": 33,
   "id": "d9ea5a0f-5dfd-4207-a38b-d0fa6ce3c1b5",
   "metadata": {},
   "outputs": [
    {
     "data": {
      "text/plain": [
       "0         Female\n",
       "1         Female\n",
       "2           Male\n",
       "3         Female\n",
       "4         Female\n",
       "           ...  \n",
       "319790      Male\n",
       "319791      Male\n",
       "319792    Female\n",
       "319793    Female\n",
       "319794    Female\n",
       "Name: Sex, Length: 319795, dtype: object"
      ]
     },
     "execution_count": 33,
     "metadata": {},
     "output_type": "execute_result"
    }
   ],
   "source": [
    "heart_data['Sex']"
   ]
  },
  {
   "cell_type": "code",
   "execution_count": 34,
   "id": "94090842-fc5f-4fa1-9102-4343390c0a31",
   "metadata": {},
   "outputs": [],
   "source": [
    "heart_data['Sex'].fillna('Female',inplace=True)"
   ]
  },
  {
   "cell_type": "code",
   "execution_count": 35,
   "id": "a6b62840-f11c-41df-956a-c8cd277e56b7",
   "metadata": {},
   "outputs": [
    {
     "data": {
      "text/plain": [
       "0"
      ]
     },
     "execution_count": 35,
     "metadata": {},
     "output_type": "execute_result"
    }
   ],
   "source": [
    "heart_data['Sex'].isna().sum()"
   ]
  },
  {
   "cell_type": "markdown",
   "id": "7cc629f0-d8bf-4f25-829f-a9273f22a6da",
   "metadata": {},
   "source": [
    "### 9 . Filling missing data for AgeCategory"
   ]
  },
  {
   "cell_type": "code",
   "execution_count": 36,
   "id": "0dfc3245-3750-497f-8b0d-873f9d78120f",
   "metadata": {},
   "outputs": [
    {
     "data": {
      "text/plain": [
       "44"
      ]
     },
     "execution_count": 36,
     "metadata": {},
     "output_type": "execute_result"
    }
   ],
   "source": [
    "heart_data['AgeCategory'].isna().sum()"
   ]
  },
  {
   "cell_type": "code",
   "execution_count": 37,
   "id": "1a70ce51-f36f-45c2-ba0d-da51ea9577df",
   "metadata": {},
   "outputs": [
    {
     "data": {
      "text/plain": [
       "0               55-59\n",
       "1         80 or older\n",
       "2               65-69\n",
       "3               75-79\n",
       "4               40-44\n",
       "             ...     \n",
       "319790          60-64\n",
       "319791          35-39\n",
       "319792          45-49\n",
       "319793          25-29\n",
       "319794    80 or older\n",
       "Name: AgeCategory, Length: 319795, dtype: object"
      ]
     },
     "execution_count": 37,
     "metadata": {},
     "output_type": "execute_result"
    }
   ],
   "source": [
    "heart_data['AgeCategory']"
   ]
  },
  {
   "cell_type": "code",
   "execution_count": 38,
   "id": "4d4abb2d-7839-4ab9-9c72-899d03b07597",
   "metadata": {},
   "outputs": [],
   "source": [
    "heart_data['AgeCategory'].fillna(45-78,inplace=True)"
   ]
  },
  {
   "cell_type": "code",
   "execution_count": 39,
   "id": "df2f0678-2012-4094-8415-29eb8d514eb5",
   "metadata": {},
   "outputs": [
    {
     "data": {
      "text/plain": [
       "0"
      ]
     },
     "execution_count": 39,
     "metadata": {},
     "output_type": "execute_result"
    }
   ],
   "source": [
    "heart_data['AgeCategory'].isna().sum()"
   ]
  },
  {
   "cell_type": "markdown",
   "id": "2af1861a-77d6-4da2-b1c8-9fd1c36716bb",
   "metadata": {},
   "source": [
    "### 10. Filling missing data for Race "
   ]
  },
  {
   "cell_type": "code",
   "execution_count": 40,
   "id": "f127eed9-c247-4309-80f2-58fb332970ef",
   "metadata": {},
   "outputs": [
    {
     "data": {
      "text/plain": [
       "39"
      ]
     },
     "execution_count": 40,
     "metadata": {},
     "output_type": "execute_result"
    }
   ],
   "source": [
    "heart_data['Race'].isna().sum()"
   ]
  },
  {
   "cell_type": "code",
   "execution_count": 41,
   "id": "864abcf4-c169-4ce9-aef5-44ce1275d7ce",
   "metadata": {},
   "outputs": [
    {
     "data": {
      "text/plain": [
       "0            White\n",
       "1            White\n",
       "2            White\n",
       "3            White\n",
       "4            White\n",
       "            ...   \n",
       "319790    Hispanic\n",
       "319791    Hispanic\n",
       "319792    Hispanic\n",
       "319793    Hispanic\n",
       "319794    Hispanic\n",
       "Name: Race, Length: 319795, dtype: object"
      ]
     },
     "execution_count": 41,
     "metadata": {},
     "output_type": "execute_result"
    }
   ],
   "source": [
    "heart_data['Race']"
   ]
  },
  {
   "cell_type": "code",
   "execution_count": 42,
   "id": "c22b4fd5-278c-447d-8d56-bd39afaf7505",
   "metadata": {},
   "outputs": [],
   "source": [
    "heart_data['Race'].fillna('Brown',inplace=True)"
   ]
  },
  {
   "cell_type": "code",
   "execution_count": 43,
   "id": "743948ec-1d82-4bf7-86a6-bfccdfcc2f2f",
   "metadata": {},
   "outputs": [
    {
     "data": {
      "text/plain": [
       "0"
      ]
     },
     "execution_count": 43,
     "metadata": {},
     "output_type": "execute_result"
    }
   ],
   "source": [
    "heart_data['Race'].isna().sum()"
   ]
  },
  {
   "cell_type": "markdown",
   "id": "6aff52cb-a91f-4daf-aba8-6029c7700786",
   "metadata": {},
   "source": [
    "### 11. Filling missing data for Diabetic"
   ]
  },
  {
   "cell_type": "code",
   "execution_count": 44,
   "id": "75814b29-5eac-4024-8a9b-42aa97a86d0a",
   "metadata": {},
   "outputs": [
    {
     "data": {
      "text/plain": [
       "33"
      ]
     },
     "execution_count": 44,
     "metadata": {},
     "output_type": "execute_result"
    }
   ],
   "source": [
    "heart_data['Diabetic'].isna().sum()"
   ]
  },
  {
   "cell_type": "code",
   "execution_count": 45,
   "id": "71b602f8-c638-4911-b7ea-01c250aca6e3",
   "metadata": {},
   "outputs": [
    {
     "data": {
      "text/plain": [
       "0         Yes\n",
       "1          No\n",
       "2         Yes\n",
       "3          No\n",
       "4          No\n",
       "         ... \n",
       "319790    Yes\n",
       "319791     No\n",
       "319792     No\n",
       "319793     No\n",
       "319794     No\n",
       "Name: Diabetic, Length: 319795, dtype: object"
      ]
     },
     "execution_count": 45,
     "metadata": {},
     "output_type": "execute_result"
    }
   ],
   "source": [
    "heart_data['Diabetic']"
   ]
  },
  {
   "cell_type": "code",
   "execution_count": 46,
   "id": "3566d34c-84ac-4f8e-8792-577af6fd8598",
   "metadata": {},
   "outputs": [],
   "source": [
    "heart_data['Diabetic'].fillna('Yes',inplace=True)"
   ]
  },
  {
   "cell_type": "code",
   "execution_count": 47,
   "id": "590cbec9-17c2-4880-9c20-c22939d1ccd7",
   "metadata": {},
   "outputs": [
    {
     "data": {
      "text/plain": [
       "0"
      ]
     },
     "execution_count": 47,
     "metadata": {},
     "output_type": "execute_result"
    }
   ],
   "source": [
    "heart_data['Diabetic'].isna().sum()"
   ]
  },
  {
   "cell_type": "markdown",
   "id": "d2158ac5-58e4-41d1-bb00-23e0c944a9bb",
   "metadata": {},
   "source": [
    "### 12. Filling missing data for PhysicalActivity"
   ]
  },
  {
   "cell_type": "code",
   "execution_count": 48,
   "id": "47bf9cd8-900c-45ea-8843-524e671eae13",
   "metadata": {},
   "outputs": [
    {
     "data": {
      "text/plain": [
       "16"
      ]
     },
     "execution_count": 48,
     "metadata": {},
     "output_type": "execute_result"
    }
   ],
   "source": [
    "heart_data['PhysicalActivity'].isna().sum()"
   ]
  },
  {
   "cell_type": "code",
   "execution_count": 49,
   "id": "cc6a32af-72b3-4da9-8b4d-7657c18c290f",
   "metadata": {},
   "outputs": [
    {
     "data": {
      "text/plain": [
       "0         Yes\n",
       "1         Yes\n",
       "2         Yes\n",
       "3          No\n",
       "4         Yes\n",
       "         ... \n",
       "319790     No\n",
       "319791    Yes\n",
       "319792    Yes\n",
       "319793     No\n",
       "319794    Yes\n",
       "Name: PhysicalActivity, Length: 319795, dtype: object"
      ]
     },
     "execution_count": 49,
     "metadata": {},
     "output_type": "execute_result"
    }
   ],
   "source": [
    "heart_data['PhysicalActivity']"
   ]
  },
  {
   "cell_type": "code",
   "execution_count": 50,
   "id": "93ddd73a-7696-48d4-b1ed-a86e41d00c3e",
   "metadata": {},
   "outputs": [],
   "source": [
    "heart_data['PhysicalActivity'].fillna('Yes',inplace=True)"
   ]
  },
  {
   "cell_type": "code",
   "execution_count": 51,
   "id": "eb95d888-9bce-4a93-aa7f-64536f47fa10",
   "metadata": {},
   "outputs": [
    {
     "data": {
      "text/plain": [
       "0"
      ]
     },
     "execution_count": 51,
     "metadata": {},
     "output_type": "execute_result"
    }
   ],
   "source": [
    "heart_data['PhysicalActivity'].isna().sum()"
   ]
  },
  {
   "cell_type": "markdown",
   "id": "ad5be057-5fc8-46b0-8b94-0d36968ed886",
   "metadata": {},
   "source": [
    "### 13. Fillling missing for GenHealth"
   ]
  },
  {
   "cell_type": "code",
   "execution_count": 52,
   "id": "d0c452a6-37b3-4690-81da-69e44c05f926",
   "metadata": {},
   "outputs": [
    {
     "data": {
      "text/plain": [
       "493"
      ]
     },
     "execution_count": 52,
     "metadata": {},
     "output_type": "execute_result"
    }
   ],
   "source": [
    "heart_data['GenHealth'].isna().sum()"
   ]
  },
  {
   "cell_type": "code",
   "execution_count": 53,
   "id": "a0e0addc-3758-4d5c-944c-fb79c05597b1",
   "metadata": {},
   "outputs": [
    {
     "data": {
      "text/plain": [
       "0         Very good\n",
       "1         Very good\n",
       "2              Fair\n",
       "3              Good\n",
       "4         Very good\n",
       "            ...    \n",
       "319790         Fair\n",
       "319791    Very good\n",
       "319792         Good\n",
       "319793         Good\n",
       "319794         Good\n",
       "Name: GenHealth, Length: 319795, dtype: object"
      ]
     },
     "execution_count": 53,
     "metadata": {},
     "output_type": "execute_result"
    }
   ],
   "source": [
    "heart_data['GenHealth']"
   ]
  },
  {
   "cell_type": "code",
   "execution_count": 54,
   "id": "6a0d3c2a-65e4-4547-af85-9075efb157b2",
   "metadata": {},
   "outputs": [],
   "source": [
    "heart_data['GenHealth'].fillna('Good',inplace=True)"
   ]
  },
  {
   "cell_type": "code",
   "execution_count": 55,
   "id": "e47bb131-0dcc-4c00-a3e7-2a0de99ef462",
   "metadata": {},
   "outputs": [
    {
     "data": {
      "text/plain": [
       "0"
      ]
     },
     "execution_count": 55,
     "metadata": {},
     "output_type": "execute_result"
    }
   ],
   "source": [
    "heart_data['GenHealth'].isna().sum()"
   ]
  },
  {
   "cell_type": "markdown",
   "id": "eaf3909c-20c0-4816-9ef0-3f638e31b388",
   "metadata": {},
   "source": [
    "### 14.filling missing Data for SleepTime "
   ]
  },
  {
   "cell_type": "code",
   "execution_count": 56,
   "id": "8bc6c562-6409-48b8-985f-8a4fea123517",
   "metadata": {},
   "outputs": [
    {
     "data": {
      "text/plain": [
       "219"
      ]
     },
     "execution_count": 56,
     "metadata": {},
     "output_type": "execute_result"
    }
   ],
   "source": [
    "heart_data['SleepTime'].isna().sum()"
   ]
  },
  {
   "cell_type": "code",
   "execution_count": 57,
   "id": "fdcfe123-a9a9-4ad5-adf9-3267f0f3958a",
   "metadata": {},
   "outputs": [
    {
     "data": {
      "text/plain": [
       "0          5.0\n",
       "1          7.0\n",
       "2          8.0\n",
       "3          6.0\n",
       "4          8.0\n",
       "          ... \n",
       "319790     6.0\n",
       "319791     5.0\n",
       "319792     6.0\n",
       "319793    12.0\n",
       "319794     8.0\n",
       "Name: SleepTime, Length: 319795, dtype: float64"
      ]
     },
     "execution_count": 57,
     "metadata": {},
     "output_type": "execute_result"
    }
   ],
   "source": [
    "heart_data['SleepTime']"
   ]
  },
  {
   "cell_type": "code",
   "execution_count": 58,
   "id": "d67fcda9-2b48-444a-bd98-5d312c4453d8",
   "metadata": {},
   "outputs": [],
   "source": [
    "heart_data['SleepTime'].fillna(34,inplace=True)"
   ]
  },
  {
   "cell_type": "code",
   "execution_count": 59,
   "id": "c3e90095-b213-4d8c-a3bf-edef946be374",
   "metadata": {},
   "outputs": [
    {
     "data": {
      "text/plain": [
       "0"
      ]
     },
     "execution_count": 59,
     "metadata": {},
     "output_type": "execute_result"
    }
   ],
   "source": [
    "heart_data['SleepTime'].isna().sum()"
   ]
  },
  {
   "cell_type": "markdown",
   "id": "2c3a431c-6c99-4be0-9d98-4ff920f23059",
   "metadata": {},
   "source": [
    "### 15. Filling missing data for KidneyDisease"
   ]
  },
  {
   "cell_type": "code",
   "execution_count": 60,
   "id": "cb70a095-f385-4997-bd25-0eb3d0095bef",
   "metadata": {},
   "outputs": [
    {
     "data": {
      "text/plain": [
       "17"
      ]
     },
     "execution_count": 60,
     "metadata": {},
     "output_type": "execute_result"
    }
   ],
   "source": [
    "heart_data['KidneyDisease'].isna().sum()"
   ]
  },
  {
   "cell_type": "code",
   "execution_count": 61,
   "id": "0386e0f0-96dd-4353-b5c2-5bb8789fb91b",
   "metadata": {},
   "outputs": [
    {
     "data": {
      "text/plain": [
       "0         No\n",
       "1         No\n",
       "2         No\n",
       "3         No\n",
       "4         No\n",
       "          ..\n",
       "319790    No\n",
       "319791    No\n",
       "319792    No\n",
       "319793    No\n",
       "319794    No\n",
       "Name: KidneyDisease, Length: 319795, dtype: object"
      ]
     },
     "execution_count": 61,
     "metadata": {},
     "output_type": "execute_result"
    }
   ],
   "source": [
    "heart_data['KidneyDisease']"
   ]
  },
  {
   "cell_type": "code",
   "execution_count": 62,
   "id": "be7b87c5-2872-4905-a730-381f7411c444",
   "metadata": {},
   "outputs": [],
   "source": [
    "heart_data['KidneyDisease_filled'] = heart_data['KidneyDisease'].fillna('Yes')"
   ]
  },
  {
   "cell_type": "code",
   "execution_count": 63,
   "id": "4f8bdb12-c983-41c9-a3a8-03f99ce9a78d",
   "metadata": {},
   "outputs": [],
   "source": [
    "heart_data['KidneyDisease'] = heart_data['KidneyDisease_filled']"
   ]
  },
  {
   "cell_type": "code",
   "execution_count": 64,
   "id": "2a16f173-f2e0-4be4-ace2-8c7b8e90265e",
   "metadata": {},
   "outputs": [
    {
     "data": {
      "text/plain": [
       "0"
      ]
     },
     "execution_count": 64,
     "metadata": {},
     "output_type": "execute_result"
    }
   ],
   "source": [
    "heart_data['KidneyDisease'].isna().sum()"
   ]
  },
  {
   "cell_type": "code",
   "execution_count": 65,
   "id": "a3f2ceee-8c5c-40f4-804d-5a43eb8e182a",
   "metadata": {},
   "outputs": [
    {
     "data": {
      "text/plain": [
       "HeartDisease            0\n",
       "BMI                     0\n",
       "Smoking                 0\n",
       "AlcoholDrinking         0\n",
       "Stroke                  0\n",
       "PhysicalHealth          0\n",
       "MentalHealth            0\n",
       "DiffWalking             0\n",
       "Sex                     0\n",
       "AgeCategory             0\n",
       "Race                    0\n",
       "Diabetic                0\n",
       "PhysicalActivity        0\n",
       "GenHealth               0\n",
       "SleepTime               0\n",
       "Asthma                  0\n",
       "KidneyDisease           0\n",
       "SkinCancer              0\n",
       "KidneyDisease_filled    0\n",
       "dtype: int64"
      ]
     },
     "execution_count": 65,
     "metadata": {},
     "output_type": "execute_result"
    }
   ],
   "source": [
    "heart_data.isna().sum() # check null values"
   ]
  },
  {
   "cell_type": "markdown",
   "id": "cdfb8714-91cf-4a7a-91d0-14f786a5af98",
   "metadata": {},
   "source": [
    "## No missing data "
   ]
  },
  {
   "cell_type": "markdown",
   "id": "4c00b373-8954-4482-9d0d-6d25bc273279",
   "metadata": {},
   "source": [
    "## Visualization"
   ]
  },
  {
   "cell_type": "code",
   "execution_count": 66,
   "id": "f3532573-0ed5-4ab7-a8f1-00aa1c6b47a0",
   "metadata": {},
   "outputs": [
    {
     "data": {
      "text/plain": [
       "Text(0, 0.5, 'Count')"
      ]
     },
     "execution_count": 66,
     "metadata": {},
     "output_type": "execute_result"
    },
    {
     "data": {
      "image/png": "[encoded data removed]",
      "text/plain": [
       "<Figure size 640x480 with 1 Axes>"
      ]
     },
     "metadata": {},
     "output_type": "display_data"
    }
   ],
   "source": [
    "\n",
    "sns.countplot(data=heart_data, x='Smoking', hue='HeartDisease', palette='Set1')\n",
    "plt.title('Heart Disease vs. Smoking')\n",
    "plt.xlabel('AlcoholDrinking')\n",
    "plt.ylabel('Count')"
   ]
  },
  {
   "cell_type": "code",
   "execution_count": 67,
   "id": "67b114f9-a06f-4c74-83be-b882d24e3f90",
   "metadata": {},
   "outputs": [
    {
     "name": "stderr",
     "output_type": "stream",
     "text": [
      "/opt/anaconda3/lib/python3.11/site-packages/seaborn/_oldcore.py:1119: FutureWarning: use_inf_as_na option is deprecated and will be removed in a future version. Convert inf values to NaN before operating instead.\n",
      "  with pd.option_context('mode.use_inf_as_na', True):\n",
      "/opt/anaconda3/lib/python3.11/site-packages/seaborn/_oldcore.py:1119: FutureWarning: use_inf_as_na option is deprecated and will be removed in a future version. Convert inf values to NaN before operating instead.\n",
      "  with pd.option_context('mode.use_inf_as_na', True):\n"
     ]
    },
    {
     "data": {
      "text/plain": [
       "Text(0.5, 1.0, 'Relation of SleepTime with Mental Health and Physical Health')"
      ]
     },
     "execution_count": 67,
     "metadata": {},
     "output_type": "execute_result"
    },
    {
     "data": {
      "text/plain": [
       "<Figure size 2000x2000 with 0 Axes>"
      ]
     },
     "metadata": {},
     "output_type": "display_data"
    },
    {
     "data": {
      "image/png": "[encoded data removed]",
      "text/plain": [
       "<Figure size 1091.47x500 with 1 Axes>"
      ]
     },
     "metadata": {},
     "output_type": "display_data"
    }
   ],
   "source": [
    "plt.figure(figsize=(20,20))\n",
    "sns.set_theme(style=\"darkgrid\")\n",
    "sns.relplot(data=heart_data,kind=\"line\",x='PhysicalHealth',y='MentalHealth', hue='SleepTime',markers=True,aspect=2)\n",
    "plt.xlabel(\"Suffered from Physical Health\")\n",
    "plt.ylabel(\"Suffered from Mental Health\")\n",
    "plt.title(\"Relation of SleepTime with Mental Health and Physical Health\")"
   ]
  },
  {
   "cell_type": "code",
   "execution_count": 68,
   "id": "c9d8c94e-6caa-4340-b23f-544457f0e32b",
   "metadata": {},
   "outputs": [
    {
     "data": {
      "image/png": "[encoded data removed]",
      "text/plain": [
       "<Figure size 640x480 with 1 Axes>"
      ]
     },
     "metadata": {},
     "output_type": "display_data"
    }
   ],
   "source": [
    "\n",
    "kidney_disease_binary = [1 if val else 0 for val in heart_data['KidneyDisease']]\n",
    "asthma_binary = [1 if val else 0 for val in heart_data['Asthma']]\n",
    "plt.bar(['Kidney Disease', 'Asthma'], [sum(kidney_disease_binary), sum(asthma_binary)], color=['blue', 'green'])\n",
    "plt.show()\n"
   ]
  },
  {
   "cell_type": "code",
   "execution_count": 69,
   "id": "cc865ee5-8f4e-4d56-bfae-2be6a6725d40",
   "metadata": {},
   "outputs": [
    {
     "data": {
      "text/plain": [
       "<BarContainer object of 319795 artists>"
      ]
     },
     "execution_count": 69,
     "metadata": {},
     "output_type": "execute_result"
    },
    {
     "data": {
      "image/png": "[encoded data removed]",
      "text/plain": [
       "<Figure size 640x480 with 1 Axes>"
      ]
     },
     "metadata": {},
     "output_type": "display_data"
    }
   ],
   "source": [
    "x = heart_data['SleepTime']\n",
    "y = heart_data['PhysicalHealth']\n",
    "z = heart_data['DiffWalking']\n",
    "plt.bar(x,y)"
   ]
  },
  {
   "cell_type": "code",
   "execution_count": 70,
   "id": "799cdef9-8e6e-4eb8-9928-da478eb30324",
   "metadata": {},
   "outputs": [
    {
     "name": "stderr",
     "output_type": "stream",
     "text": [
      "/opt/anaconda3/lib/python3.11/site-packages/seaborn/_oldcore.py:1119: FutureWarning: use_inf_as_na option is deprecated and will be removed in a future version. Convert inf values to NaN before operating instead.\n",
      "  with pd.option_context('mode.use_inf_as_na', True):\n"
     ]
    },
    {
     "data": {
      "image/png": "[encoded data removed]",
      "text/plain": [
       "<Figure size 1000x600 with 1 Axes>"
      ]
     },
     "metadata": {},
     "output_type": "display_data"
    }
   ],
   "source": [
    "## Distribution of BMI by Heart Diseases\n",
    "plt.figure(figsize=(10,6))\n",
    "sns.histplot(data=heart_data, x='BMI', hue='HeartDisease', kde='True')\n",
    "plt.title('Distribution of BMI by Heart Diseases')\n",
    "plt.xlabel('BMI')\n",
    "plt.ylabel('Frequency')\n",
    "plt.show()"
   ]
  },
  {
   "cell_type": "code",
   "execution_count": 71,
   "id": "1b9aa2ed-4541-4bf7-9715-99d1ac65cf73",
   "metadata": {},
   "outputs": [],
   "source": [
    "# ## Count plot of heart diseases by sex\n",
    "# plt.figure(figsize=(8, 6))\n",
    "# sns.countplot(data='heart_disease.csv',x='Sex', hue='HeartDisease')\n",
    "# plt.title('Count plot of Heart Diseases by sex')\n",
    "# plt.xlabel('Sex')\n",
    "# plt.ylabel('Count')\n",
    "# plt.show()"
   ]
  },
  {
   "cell_type": "code",
   "execution_count": 72,
   "id": "f552cda6-3d05-4273-a610-8022a53d98f9",
   "metadata": {},
   "outputs": [],
   "source": [
    "# ## Count plot of heart diseases by sex\n",
    "# plt.figure(figsize=(8, 6))\n",
    "# sns.countplot(data='heart_disease.csv',x='AgeCategory', hue='HeartDisease')\n",
    "# plt.title('Heart Diseases by AgeCategory')\n",
    "# plt.xlabel('AgeCategory')\n",
    "# plt.ylabel('Count')\n",
    "# plt.tricks(rotation= 45)\n",
    "# plt.show()"
   ]
  },
  {
   "cell_type": "code",
   "execution_count": 73,
   "id": "36eaed76-1bb7-4d9f-b1cf-7397c0075399",
   "metadata": {},
   "outputs": [],
   "source": [
    "# ## Average sleep time by General Health status\n",
    "# plt.figure(figsize=(10, 6))\n",
    "# sns.barplot(data='heart_disease.csv',x='GenHealth', hue='SleepTime')\n",
    "# plt.title('Average sleep time by General Health status')\n",
    "# plt.xlabel('General Health')\n",
    "# plt.ylabel('Average SleepTime (hours)')\n",
    "# plt.show()"
   ]
  },
  {
   "cell_type": "markdown",
   "id": "044f04da-5825-490b-ba27-a7d30a0a6a7b",
   "metadata": {},
   "source": [
    "## Label encoder"
   ]
  },
  {
   "cell_type": "code",
   "execution_count": 75,
   "id": "3fe2b7ac-3aef-4732-a1fc-50b679603b70",
   "metadata": {},
   "outputs": [
    {
     "data": {
      "text/html": [
       "<div>\n",
       "<style scoped>\n",
       "    .dataframe tbody tr th:only-of-type {\n",
       "        vertical-align: middle;\n",
       "    }\n",
       "\n",
       "    .dataframe tbody tr th {\n",
       "        vertical-align: top;\n",
       "    }\n",
       "\n",
       "    .dataframe thead th {\n",
       "        text-align: right;\n",
       "    }\n",
       "</style>\n",
       "<table border=\"1\" class=\"dataframe\">\n",
       "  <thead>\n",
       "    <tr style=\"text-align: right;\">\n",
       "      <th></th>\n",
       "      <th>HeartDisease_enc</th>\n",
       "      <th>HeartDisease</th>\n",
       "    </tr>\n",
       "  </thead>\n",
       "  <tbody>\n",
       "    <tr>\n",
       "      <th>0</th>\n",
       "      <td>0</td>\n",
       "      <td>No</td>\n",
       "    </tr>\n",
       "    <tr>\n",
       "      <th>1</th>\n",
       "      <td>0</td>\n",
       "      <td>No</td>\n",
       "    </tr>\n",
       "    <tr>\n",
       "      <th>2</th>\n",
       "      <td>0</td>\n",
       "      <td>No</td>\n",
       "    </tr>\n",
       "    <tr>\n",
       "      <th>3</th>\n",
       "      <td>0</td>\n",
       "      <td>No</td>\n",
       "    </tr>\n",
       "    <tr>\n",
       "      <th>4</th>\n",
       "      <td>0</td>\n",
       "      <td>No</td>\n",
       "    </tr>\n",
       "    <tr>\n",
       "      <th>...</th>\n",
       "      <td>...</td>\n",
       "      <td>...</td>\n",
       "    </tr>\n",
       "    <tr>\n",
       "      <th>319790</th>\n",
       "      <td>1</td>\n",
       "      <td>Yes</td>\n",
       "    </tr>\n",
       "    <tr>\n",
       "      <th>319791</th>\n",
       "      <td>0</td>\n",
       "      <td>No</td>\n",
       "    </tr>\n",
       "    <tr>\n",
       "      <th>319792</th>\n",
       "      <td>0</td>\n",
       "      <td>No</td>\n",
       "    </tr>\n",
       "    <tr>\n",
       "      <th>319793</th>\n",
       "      <td>0</td>\n",
       "      <td>No</td>\n",
       "    </tr>\n",
       "    <tr>\n",
       "      <th>319794</th>\n",
       "      <td>0</td>\n",
       "      <td>No</td>\n",
       "    </tr>\n",
       "  </tbody>\n",
       "</table>\n",
       "<p>319795 rows × 2 columns</p>\n",
       "</div>"
      ],
      "text/plain": [
       "        HeartDisease_enc HeartDisease\n",
       "0                      0           No\n",
       "1                      0           No\n",
       "2                      0           No\n",
       "3                      0           No\n",
       "4                      0           No\n",
       "...                  ...          ...\n",
       "319790                 1          Yes\n",
       "319791                 0           No\n",
       "319792                 0           No\n",
       "319793                 0           No\n",
       "319794                 0           No\n",
       "\n",
       "[319795 rows x 2 columns]"
      ]
     },
     "execution_count": 75,
     "metadata": {},
     "output_type": "execute_result"
    }
   ],
   "source": [
    "heart_data['HeartDisease_enc'] = scaler.fit_transform(heart_data['HeartDisease'])\n",
    "heart_data[['HeartDisease_enc', 'HeartDisease']]"
   ]
  },
  {
   "cell_type": "code",
   "execution_count": 76,
   "id": "8d158639-562f-48fc-83c7-088d2d84b353",
   "metadata": {},
   "outputs": [
    {
     "data": {
      "text/html": [
       "<div>\n",
       "<style scoped>\n",
       "    .dataframe tbody tr th:only-of-type {\n",
       "        vertical-align: middle;\n",
       "    }\n",
       "\n",
       "    .dataframe tbody tr th {\n",
       "        vertical-align: top;\n",
       "    }\n",
       "\n",
       "    .dataframe thead th {\n",
       "        text-align: right;\n",
       "    }\n",
       "</style>\n",
       "<table border=\"1\" class=\"dataframe\">\n",
       "  <thead>\n",
       "    <tr style=\"text-align: right;\">\n",
       "      <th></th>\n",
       "      <th>BMI_enc</th>\n",
       "      <th>BMI</th>\n",
       "    </tr>\n",
       "  </thead>\n",
       "  <tbody>\n",
       "    <tr>\n",
       "      <th>0</th>\n",
       "      <td>223</td>\n",
       "      <td>16.60</td>\n",
       "    </tr>\n",
       "    <tr>\n",
       "      <th>1</th>\n",
       "      <td>524</td>\n",
       "      <td>20.34</td>\n",
       "    </tr>\n",
       "    <tr>\n",
       "      <th>2</th>\n",
       "      <td>1103</td>\n",
       "      <td>26.58</td>\n",
       "    </tr>\n",
       "    <tr>\n",
       "      <th>3</th>\n",
       "      <td>883</td>\n",
       "      <td>24.21</td>\n",
       "    </tr>\n",
       "    <tr>\n",
       "      <th>4</th>\n",
       "      <td>837</td>\n",
       "      <td>23.71</td>\n",
       "    </tr>\n",
       "    <tr>\n",
       "      <th>...</th>\n",
       "      <td>...</td>\n",
       "      <td>...</td>\n",
       "    </tr>\n",
       "    <tr>\n",
       "      <th>319790</th>\n",
       "      <td>1180</td>\n",
       "      <td>27.41</td>\n",
       "    </tr>\n",
       "    <tr>\n",
       "      <th>319791</th>\n",
       "      <td>1397</td>\n",
       "      <td>29.84</td>\n",
       "    </tr>\n",
       "    <tr>\n",
       "      <th>319792</th>\n",
       "      <td>886</td>\n",
       "      <td>24.24</td>\n",
       "    </tr>\n",
       "    <tr>\n",
       "      <th>319793</th>\n",
       "      <td>1658</td>\n",
       "      <td>32.81</td>\n",
       "    </tr>\n",
       "    <tr>\n",
       "      <th>319794</th>\n",
       "      <td>2700</td>\n",
       "      <td>46.56</td>\n",
       "    </tr>\n",
       "  </tbody>\n",
       "</table>\n",
       "<p>319795 rows × 2 columns</p>\n",
       "</div>"
      ],
      "text/plain": [
       "        BMI_enc    BMI\n",
       "0           223  16.60\n",
       "1           524  20.34\n",
       "2          1103  26.58\n",
       "3           883  24.21\n",
       "4           837  23.71\n",
       "...         ...    ...\n",
       "319790     1180  27.41\n",
       "319791     1397  29.84\n",
       "319792      886  24.24\n",
       "319793     1658  32.81\n",
       "319794     2700  46.56\n",
       "\n",
       "[319795 rows x 2 columns]"
      ]
     },
     "execution_count": 76,
     "metadata": {},
     "output_type": "execute_result"
    }
   ],
   "source": [
    "heart_data['BMI_enc'] = scaler.fit_transform(heart_data['BMI'])\n",
    "heart_data[['BMI_enc', 'BMI']]"
   ]
  },
  {
   "cell_type": "code",
   "execution_count": 77,
   "id": "a6ecbb0b-c3c2-4498-9024-6e8f70c1eace",
   "metadata": {},
   "outputs": [
    {
     "data": {
      "text/html": [
       "<div>\n",
       "<style scoped>\n",
       "    .dataframe tbody tr th:only-of-type {\n",
       "        vertical-align: middle;\n",
       "    }\n",
       "\n",
       "    .dataframe tbody tr th {\n",
       "        vertical-align: top;\n",
       "    }\n",
       "\n",
       "    .dataframe thead th {\n",
       "        text-align: right;\n",
       "    }\n",
       "</style>\n",
       "<table border=\"1\" class=\"dataframe\">\n",
       "  <thead>\n",
       "    <tr style=\"text-align: right;\">\n",
       "      <th></th>\n",
       "      <th>MentalHealth_enc</th>\n",
       "      <th>MentalHealth</th>\n",
       "    </tr>\n",
       "  </thead>\n",
       "  <tbody>\n",
       "    <tr>\n",
       "      <th>0</th>\n",
       "      <td>30</td>\n",
       "      <td>30.0</td>\n",
       "    </tr>\n",
       "    <tr>\n",
       "      <th>1</th>\n",
       "      <td>0</td>\n",
       "      <td>0.0</td>\n",
       "    </tr>\n",
       "    <tr>\n",
       "      <th>2</th>\n",
       "      <td>30</td>\n",
       "      <td>30.0</td>\n",
       "    </tr>\n",
       "    <tr>\n",
       "      <th>3</th>\n",
       "      <td>0</td>\n",
       "      <td>0.0</td>\n",
       "    </tr>\n",
       "    <tr>\n",
       "      <th>4</th>\n",
       "      <td>0</td>\n",
       "      <td>0.0</td>\n",
       "    </tr>\n",
       "    <tr>\n",
       "      <th>...</th>\n",
       "      <td>...</td>\n",
       "      <td>...</td>\n",
       "    </tr>\n",
       "    <tr>\n",
       "      <th>319790</th>\n",
       "      <td>0</td>\n",
       "      <td>0.0</td>\n",
       "    </tr>\n",
       "    <tr>\n",
       "      <th>319791</th>\n",
       "      <td>0</td>\n",
       "      <td>0.0</td>\n",
       "    </tr>\n",
       "    <tr>\n",
       "      <th>319792</th>\n",
       "      <td>0</td>\n",
       "      <td>0.0</td>\n",
       "    </tr>\n",
       "    <tr>\n",
       "      <th>319793</th>\n",
       "      <td>0</td>\n",
       "      <td>0.0</td>\n",
       "    </tr>\n",
       "    <tr>\n",
       "      <th>319794</th>\n",
       "      <td>0</td>\n",
       "      <td>0.0</td>\n",
       "    </tr>\n",
       "  </tbody>\n",
       "</table>\n",
       "<p>319795 rows × 2 columns</p>\n",
       "</div>"
      ],
      "text/plain": [
       "        MentalHealth_enc  MentalHealth\n",
       "0                     30          30.0\n",
       "1                      0           0.0\n",
       "2                     30          30.0\n",
       "3                      0           0.0\n",
       "4                      0           0.0\n",
       "...                  ...           ...\n",
       "319790                 0           0.0\n",
       "319791                 0           0.0\n",
       "319792                 0           0.0\n",
       "319793                 0           0.0\n",
       "319794                 0           0.0\n",
       "\n",
       "[319795 rows x 2 columns]"
      ]
     },
     "execution_count": 77,
     "metadata": {},
     "output_type": "execute_result"
    }
   ],
   "source": [
    "heart_data['MentalHealth_enc'] = scaler.fit_transform(heart_data['MentalHealth'])\n",
    "heart_data[['MentalHealth_enc', 'MentalHealth']]"
   ]
  },
  {
   "cell_type": "code",
   "execution_count": 79,
   "id": "761ef9f7-c65e-4c95-9132-972d15073441",
   "metadata": {},
   "outputs": [
    {
     "data": {
      "text/html": [
       "<div>\n",
       "<style scoped>\n",
       "    .dataframe tbody tr th:only-of-type {\n",
       "        vertical-align: middle;\n",
       "    }\n",
       "\n",
       "    .dataframe tbody tr th {\n",
       "        vertical-align: top;\n",
       "    }\n",
       "\n",
       "    .dataframe thead th {\n",
       "        text-align: right;\n",
       "    }\n",
       "</style>\n",
       "<table border=\"1\" class=\"dataframe\">\n",
       "  <thead>\n",
       "    <tr style=\"text-align: right;\">\n",
       "      <th></th>\n",
       "      <th>Race_enc</th>\n",
       "      <th>Race</th>\n",
       "    </tr>\n",
       "  </thead>\n",
       "  <tbody>\n",
       "    <tr>\n",
       "      <th>0</th>\n",
       "      <td>6</td>\n",
       "      <td>White</td>\n",
       "    </tr>\n",
       "    <tr>\n",
       "      <th>1</th>\n",
       "      <td>6</td>\n",
       "      <td>White</td>\n",
       "    </tr>\n",
       "    <tr>\n",
       "      <th>2</th>\n",
       "      <td>6</td>\n",
       "      <td>White</td>\n",
       "    </tr>\n",
       "    <tr>\n",
       "      <th>3</th>\n",
       "      <td>6</td>\n",
       "      <td>White</td>\n",
       "    </tr>\n",
       "    <tr>\n",
       "      <th>4</th>\n",
       "      <td>6</td>\n",
       "      <td>White</td>\n",
       "    </tr>\n",
       "    <tr>\n",
       "      <th>...</th>\n",
       "      <td>...</td>\n",
       "      <td>...</td>\n",
       "    </tr>\n",
       "    <tr>\n",
       "      <th>319790</th>\n",
       "      <td>4</td>\n",
       "      <td>Hispanic</td>\n",
       "    </tr>\n",
       "    <tr>\n",
       "      <th>319791</th>\n",
       "      <td>4</td>\n",
       "      <td>Hispanic</td>\n",
       "    </tr>\n",
       "    <tr>\n",
       "      <th>319792</th>\n",
       "      <td>4</td>\n",
       "      <td>Hispanic</td>\n",
       "    </tr>\n",
       "    <tr>\n",
       "      <th>319793</th>\n",
       "      <td>4</td>\n",
       "      <td>Hispanic</td>\n",
       "    </tr>\n",
       "    <tr>\n",
       "      <th>319794</th>\n",
       "      <td>4</td>\n",
       "      <td>Hispanic</td>\n",
       "    </tr>\n",
       "  </tbody>\n",
       "</table>\n",
       "<p>319795 rows × 2 columns</p>\n",
       "</div>"
      ],
      "text/plain": [
       "        Race_enc      Race\n",
       "0              6     White\n",
       "1              6     White\n",
       "2              6     White\n",
       "3              6     White\n",
       "4              6     White\n",
       "...          ...       ...\n",
       "319790         4  Hispanic\n",
       "319791         4  Hispanic\n",
       "319792         4  Hispanic\n",
       "319793         4  Hispanic\n",
       "319794         4  Hispanic\n",
       "\n",
       "[319795 rows x 2 columns]"
      ]
     },
     "execution_count": 79,
     "metadata": {},
     "output_type": "execute_result"
    }
   ],
   "source": [
    "heart_data['Race_enc'] = scaler.fit_transform(heart_data['Race'])\n",
    "heart_data[['Race_enc', 'Race']]"
   ]
  },
  {
   "cell_type": "code",
   "execution_count": 80,
   "id": "86d1d9e9-d177-4cdb-ab76-41eccb0bfe75",
   "metadata": {},
   "outputs": [
    {
     "data": {
      "text/html": [
       "<div>\n",
       "<style scoped>\n",
       "    .dataframe tbody tr th:only-of-type {\n",
       "        vertical-align: middle;\n",
       "    }\n",
       "\n",
       "    .dataframe tbody tr th {\n",
       "        vertical-align: top;\n",
       "    }\n",
       "\n",
       "    .dataframe thead th {\n",
       "        text-align: right;\n",
       "    }\n",
       "</style>\n",
       "<table border=\"1\" class=\"dataframe\">\n",
       "  <thead>\n",
       "    <tr style=\"text-align: right;\">\n",
       "      <th></th>\n",
       "      <th>GenHealth_enc</th>\n",
       "      <th>GenHealth</th>\n",
       "    </tr>\n",
       "  </thead>\n",
       "  <tbody>\n",
       "    <tr>\n",
       "      <th>0</th>\n",
       "      <td>4</td>\n",
       "      <td>Very good</td>\n",
       "    </tr>\n",
       "    <tr>\n",
       "      <th>1</th>\n",
       "      <td>4</td>\n",
       "      <td>Very good</td>\n",
       "    </tr>\n",
       "    <tr>\n",
       "      <th>2</th>\n",
       "      <td>1</td>\n",
       "      <td>Fair</td>\n",
       "    </tr>\n",
       "    <tr>\n",
       "      <th>3</th>\n",
       "      <td>2</td>\n",
       "      <td>Good</td>\n",
       "    </tr>\n",
       "    <tr>\n",
       "      <th>4</th>\n",
       "      <td>4</td>\n",
       "      <td>Very good</td>\n",
       "    </tr>\n",
       "    <tr>\n",
       "      <th>...</th>\n",
       "      <td>...</td>\n",
       "      <td>...</td>\n",
       "    </tr>\n",
       "    <tr>\n",
       "      <th>319790</th>\n",
       "      <td>1</td>\n",
       "      <td>Fair</td>\n",
       "    </tr>\n",
       "    <tr>\n",
       "      <th>319791</th>\n",
       "      <td>4</td>\n",
       "      <td>Very good</td>\n",
       "    </tr>\n",
       "    <tr>\n",
       "      <th>319792</th>\n",
       "      <td>2</td>\n",
       "      <td>Good</td>\n",
       "    </tr>\n",
       "    <tr>\n",
       "      <th>319793</th>\n",
       "      <td>2</td>\n",
       "      <td>Good</td>\n",
       "    </tr>\n",
       "    <tr>\n",
       "      <th>319794</th>\n",
       "      <td>2</td>\n",
       "      <td>Good</td>\n",
       "    </tr>\n",
       "  </tbody>\n",
       "</table>\n",
       "<p>319795 rows × 2 columns</p>\n",
       "</div>"
      ],
      "text/plain": [
       "        GenHealth_enc  GenHealth\n",
       "0                   4  Very good\n",
       "1                   4  Very good\n",
       "2                   1       Fair\n",
       "3                   2       Good\n",
       "4                   4  Very good\n",
       "...               ...        ...\n",
       "319790              1       Fair\n",
       "319791              4  Very good\n",
       "319792              2       Good\n",
       "319793              2       Good\n",
       "319794              2       Good\n",
       "\n",
       "[319795 rows x 2 columns]"
      ]
     },
     "execution_count": 80,
     "metadata": {},
     "output_type": "execute_result"
    }
   ],
   "source": [
    "heart_data['GenHealth_enc'] = scaler.fit_transform(heart_data['GenHealth'])\n",
    "heart_data[['GenHealth_enc', 'GenHealth']]"
   ]
  },
  {
   "cell_type": "code",
   "execution_count": null,
   "id": "7f63e87f-e3d5-42ae-9073-ba7b27fc01d9",
   "metadata": {},
   "outputs": [],
   "source": []
  },
  {
   "cell_type": "code",
   "execution_count": null,
   "id": "d3a861e4-4296-4f8b-bfd1-8ace36f4fb8b",
   "metadata": {},
   "outputs": [],
   "source": []
  },
  {
   "cell_type": "code",
   "execution_count": null,
   "id": "fcce532c-6af9-4cc8-9621-07b0562788d6",
   "metadata": {},
   "outputs": [],
   "source": []
  },
  {
   "cell_type": "code",
   "execution_count": null,
   "id": "ec86a821-a017-4685-a1a8-c6895116f665",
   "metadata": {},
   "outputs": [],
   "source": []
  },
  {
   "cell_type": "code",
   "execution_count": null,
   "id": "82d37245-3271-43f1-ad28-c978fbc3920a",
   "metadata": {},
   "outputs": [],
   "source": []
  },
  {
   "cell_type": "code",
   "execution_count": null,
   "id": "8bb96219-d21b-46f4-88a4-407826afb6bf",
   "metadata": {},
   "outputs": [],
   "source": []
  },
  {
   "cell_type": "code",
   "execution_count": null,
   "id": "b5d9361c-5de7-4709-93c9-3f55f63b3347",
   "metadata": {},
   "outputs": [],
   "source": []
  },
  {
   "cell_type": "code",
   "execution_count": null,
   "id": "e42a7a33-5be4-4ae2-ac52-34dd106cdfa1",
   "metadata": {},
   "outputs": [],
   "source": []
  }
 ],
 "metadata": {
  "kernelspec": {
   "display_name": "Python 3 (ipykernel)",
   "language": "python",
   "name": "python3"
  },
  "language_info": {
   "codemirror_mode": {
    "name": "ipython",
    "version": 3
   },
   "file_extension": ".py",
   "mimetype": "text/x-python",
   "name": "python",
   "nbconvert_exporter": "python",
   "pygments_lexer": "ipython3",
   "version": "3.11.7"
  }
 },
 "nbformat": 4,
 "nbformat_minor": 5
}

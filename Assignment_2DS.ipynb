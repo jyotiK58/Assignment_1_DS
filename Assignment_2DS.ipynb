{
 "cells": [
  {
   "cell_type": "code",
   "execution_count": 1,
   "id": "72467887-c905-450a-800f-db7bdb4cfdda",
   "metadata": {},
   "outputs": [],
   "source": [
    "import numpy as np"
   ]
  },
  {
   "cell_type": "markdown",
   "id": "800dba28-122d-4806-8cbc-8ecb01638364",
   "metadata": {},
   "source": [
    "# Array Creation"
   ]
  },
  {
   "cell_type": "markdown",
   "id": "54670331-d687-47e7-9beb-01eb3433e71b",
   "metadata": {},
   "source": [
    "### Q.no1)Create a 1-dimensional array of integers from 1 to 10."
   ]
  },
  {
   "cell_type": "code",
   "execution_count": 2,
   "id": "458dc5cb-edbd-454e-8828-a1f2b8788c49",
   "metadata": {},
   "outputs": [
    {
     "data": {
      "text/plain": [
       "array([ 1,  2,  3,  4,  5,  6,  7,  8,  9, 10])"
      ]
     },
     "execution_count": 2,
     "metadata": {},
     "output_type": "execute_result"
    }
   ],
   "source": [
    "arr_int = np.arange(1,11)\n",
    "arr_int"
   ]
  },
  {
   "cell_type": "markdown",
   "id": "cc334020-c625-4502-ba3d-7b45485c0e5d",
   "metadata": {},
   "source": [
    "### Q.no2) Create a 2-dimensional array with random float values of shape (3, 4)."
   ]
  },
  {
   "cell_type": "code",
   "execution_count": 3,
   "id": "905f146c-f95c-4204-b4cf-1abd293dc61d",
   "metadata": {},
   "outputs": [
    {
     "data": {
      "text/plain": [
       "array([[0.78210954, 0.94984511, 0.79143954, 0.3938349 ],\n",
       "       [0.38813548, 0.84278924, 0.31522275, 0.03986756],\n",
       "       [0.49415981, 0.26040345, 0.239295  , 0.88122064]])"
      ]
     },
     "execution_count": 3,
     "metadata": {},
     "output_type": "execute_result"
    }
   ],
   "source": [
    "arr_2D = np.random.rand(3,4)\n",
    "arr_2D"
   ]
  },
  {
   "cell_type": "markdown",
   "id": "d4efd60d-1b4e-43a1-ae7f-3ec98ae80ac2",
   "metadata": {},
   "source": [
    "### Q.no3) Create a 3-dimensional array of zeros with shape (2, 3, 4)."
   ]
  },
  {
   "cell_type": "code",
   "execution_count": 4,
   "id": "69b3d3fd-ddfe-464c-be45-0d80387539fd",
   "metadata": {},
   "outputs": [
    {
     "data": {
      "text/plain": [
       "array([[[0., 0., 0., 0.],\n",
       "        [0., 0., 0., 0.],\n",
       "        [0., 0., 0., 0.]],\n",
       "\n",
       "       [[0., 0., 0., 0.],\n",
       "        [0., 0., 0., 0.],\n",
       "        [0., 0., 0., 0.]]])"
      ]
     },
     "execution_count": 4,
     "metadata": {},
     "output_type": "execute_result"
    }
   ],
   "source": [
    "arr_3D = np.zeros((2,3,4))\n",
    "arr_3D"
   ]
  },
  {
   "cell_type": "markdown",
   "id": "99fa6b89-3601-46ae-846b-9b0e582af054",
   "metadata": {},
   "source": [
    "# Array Operations"
   ]
  },
  {
   "cell_type": "markdown",
   "id": "ff615432-d3c9-4b9b-82b1-c62f9c38c92c",
   "metadata": {},
   "source": [
    "### Q.no4) Given two 1-dimensional arrays, perform element-wise addition,subtraction, multiplication, and division."
   ]
  },
  {
   "cell_type": "code",
   "execution_count": 5,
   "id": "614a72ee-a36d-4f94-b4b9-dd3cae064567",
   "metadata": {},
   "outputs": [
    {
     "name": "stdout",
     "output_type": "stream",
     "text": [
      "addition [5 5 5 5]\n",
      "subtraction [-3 -1  1  3]\n",
      "multiplication [4 6 6 4]\n",
      "division [0.25       0.66666667 1.5        4.        ]\n"
     ]
    }
   ],
   "source": [
    "arr_one = np.array([1,2,3,4])\n",
    "arr_two = np.array([4,3,2,1])\n",
    "addition = np.add(arr_one , arr_two)\n",
    "subtraction = np.subtract(arr_one , arr_two)\n",
    "multiplication = np.multiply(arr_one , arr_two)\n",
    "division = np.divide(arr_one , arr_two)\n",
    "print('addition' , addition)\n",
    "print('subtraction' , subtraction)\n",
    "print('multiplication' , multiplication)\n",
    "print('division' , division)"
   ]
  },
  {
   "cell_type": "markdown",
   "id": "0bcc2429-54e4-4297-9162-f7310a482f44",
   "metadata": {},
   "source": [
    "### Q.no5) Calculate the mean, median, and standard deviation of a given 1-dimensional array."
   ]
  },
  {
   "cell_type": "code",
   "execution_count": 6,
   "id": "95047fcf-f33a-4be8-a4aa-01ed47b507b2",
   "metadata": {},
   "outputs": [
    {
     "name": "stdout",
     "output_type": "stream",
     "text": [
      "Mean 4.0\n",
      "Median 4.0\n",
      "standard deviation 1.4142135623730951\n"
     ]
    }
   ],
   "source": [
    "arr_num = np.array([2,3,4,5,6])\n",
    "mean = np.mean(arr_num)\n",
    "median = np.median(arr_num)\n",
    "st_deviation = np.std(arr_num)\n",
    "print('Mean',mean)\n",
    "print('Median',median)\n",
    "print('standard deviation',st_deviation)"
   ]
  },
  {
   "cell_type": "markdown",
   "id": "d9047a5b-f2f7-4a68-91a1-a4bf783e2a38",
   "metadata": {},
   "source": [
    "### Q.no6) Reshape a 1-dimensional array into a 2-dimensional array of shape (3,4)."
   ]
  },
  {
   "cell_type": "code",
   "execution_count": 7,
   "id": "f15f63bf-9afa-4ad5-93f3-c51d78c7b554",
   "metadata": {},
   "outputs": [
    {
     "name": "stdout",
     "output_type": "stream",
     "text": [
      "Shape of 1 dimesional array (6,)\n",
      "After reshaping (2, 3)\n"
     ]
    }
   ],
   "source": [
    "arr_1D = np.array([2,3,4,5,6,7])\n",
    "arr_2D = arr_1D.reshape(2,3)\n",
    "print('Shape of 1 dimesional array',arr_1D.shape)\n",
    "print('After reshaping',arr_2D.shape)\n",
    "\n"
   ]
  },
  {
   "cell_type": "markdown",
   "id": "f758e6fe-7de1-44e2-b1c5-4d3733ad6786",
   "metadata": {},
   "source": [
    " # Array Indexing and Slicing"
   ]
  },
  {
   "cell_type": "markdown",
   "id": "1223ef79-14f3-48ae-89c6-dbe170972276",
   "metadata": {},
   "source": [
    "### Q.no7) Extract the first row and last column of a 2-dimensional array."
   ]
  },
  {
   "cell_type": "code",
   "execution_count": 8,
   "id": "bc4b6bfe-bb27-4bb7-b701-104bb8172d2c",
   "metadata": {},
   "outputs": [
    {
     "name": "stdout",
     "output_type": "stream",
     "text": [
      "First Row [1 2 3 4]\n",
      "Last Column [4 8]\n"
     ]
    }
   ],
   "source": [
    "arr_2D = np.array([[1,2,3,4],[5,6,7,8]])\n",
    "first_row = arr_2D[0,:]\n",
    "print('First Row',first_row)\n",
    "last_col = arr_2D[:,-1]\n",
    "print('Last Column',last_col)\n"
   ]
  },
  {
   "cell_type": "markdown",
   "id": "3e2ccc06-92ea-434c-a63b-e965fde8fca8",
   "metadata": {},
   "source": [
    "### Q.no8)Reverse the order of elements in a 1-dimensional array."
   ]
  },
  {
   "cell_type": "code",
   "execution_count": 9,
   "id": "c9f8860b-8b3e-458b-ba0e-e01ffcaf5aa1",
   "metadata": {},
   "outputs": [
    {
     "name": "stdout",
     "output_type": "stream",
     "text": [
      "Order of Element [ 2  5  8 11 14]\n",
      "After reversing [14 11  8  5  2]\n"
     ]
    }
   ],
   "source": [
    "arr_1D = np.arange(2,15,3)\n",
    "print('Order of Element',arr_1D)\n",
    "rev_1D = arr_1D[::-1]\n",
    "print('After reversing',rev_1D)"
   ]
  },
  {
   "cell_type": "markdown",
   "id": "a4beabdf-0a29-43a5-8faf-75e678065a08",
   "metadata": {},
   "source": [
    "### Q.no9) Select elements from a 2-dimensional array that satisfy a specific condition (e.g., values greater than a certain threshold)."
   ]
  },
  {
   "cell_type": "code",
   "execution_count": 10,
   "id": "c08733ef-1468-4a68-98ce-e68d7d4635a8",
   "metadata": {},
   "outputs": [
    {
     "data": {
      "text/plain": [
       "array([20, 60])"
      ]
     },
     "execution_count": 10,
     "metadata": {},
     "output_type": "execute_result"
    }
   ],
   "source": [
    "arr_2D = np.array([[20,3,41],[60,7,8]])\n",
    "cnd_stmt = (arr_2D % 2 == 0) & (arr_2D > 8)\n",
    "result = arr_2D[cnd_stmt]\n",
    "result"
   ]
  },
  {
   "cell_type": "markdown",
   "id": "ac6fe14d-f16b-4a4b-ba67-3bc70efc47d2",
   "metadata": {},
   "source": [
    "# Array Broadcasting"
   ]
  },
  {
   "cell_type": "markdown",
   "id": "2bdc28fa-8e49-467c-a4b5-99fa0a382ba1",
   "metadata": {},
   "source": [
    "### Q.no10) Add a scalar value to each element of a 2-dimensional array."
   ]
  },
  {
   "cell_type": "code",
   "execution_count": 11,
   "id": "9b0ced63-19fd-4ac3-8d1b-162a014cf9e6",
   "metadata": {},
   "outputs": [
    {
     "data": {
      "text/plain": [
       "array([[ 3,  4,  5,  6],\n",
       "       [ 7,  8,  9, 10]])"
      ]
     },
     "execution_count": 11,
     "metadata": {},
     "output_type": "execute_result"
    }
   ],
   "source": [
    "arr_2D = np.array([[2,3,4,5],[6,7,8,9]])\n",
    "scaler = 1\n",
    "result = arr_2D + scaler\n",
    "result"
   ]
  },
  {
   "cell_type": "markdown",
   "id": "2201959b-b5ad-4ca6-af50-05980802901b",
   "metadata": {},
   "source": [
    "### Q.no 11) Multiply a 1-dimensional array with a 2-dimensional array, leveraging NumPy's broadcasting rules."
   ]
  },
  {
   "cell_type": "code",
   "execution_count": 12,
   "id": "7b0bf370-19ad-421b-af1f-781a295cd728",
   "metadata": {},
   "outputs": [
    {
     "name": "stdout",
     "output_type": "stream",
     "text": [
      "One dimesional array [1 2 3]\n",
      "Two dimesional array [[2 3 4]\n",
      " [5 6 7]]\n",
      "Result [[ 2  6 12]\n",
      " [ 5 12 21]]\n"
     ]
    }
   ],
   "source": [
    "arr_1D = np.array([1,2,3])\n",
    "arr_2D = np.array([[2,3,4],[5,6,7]])\n",
    "result = arr_1D * arr_2D\n",
    "print('One dimesional array',arr_1D)\n",
    "print('Two dimesional array',arr_2D)\n",
    "print('Result',result)\n"
   ]
  },
  {
   "cell_type": "markdown",
   "id": "a7b7cba4-e21b-466f-be1f-4f853df89405",
   "metadata": {},
   "source": [
    "#            Linear Algebra:"
   ]
  },
  {
   "cell_type": "markdown",
   "id": "0f6a3050-807c-483b-9d30-ec69af4f7db1",
   "metadata": {},
   "source": [
    "### Q.no12) Calculate the dot product of two 1-dimensional arrays."
   ]
  },
  {
   "cell_type": "code",
   "execution_count": 13,
   "id": "90318958-f6ad-4f15-9870-bdfa2ecc5a77",
   "metadata": {},
   "outputs": [
    {
     "data": {
      "text/plain": [
       "130"
      ]
     },
     "execution_count": 13,
     "metadata": {},
     "output_type": "execute_result"
    }
   ],
   "source": [
    "arr_1 = np.array([1,2,3,4,5])\n",
    "arr_2 = np.array([6,7,8,9,10])\n",
    "result = np.dot(arr_1,arr_2)\n",
    "result\n"
   ]
  },
  {
   "cell_type": "markdown",
   "id": "28c607f9-f975-4e61-800f-a1076f8f2f90",
   "metadata": {},
   "source": [
    "### Q.no13) Compute the matrix multiplication of two 2-dimensional arrays."
   ]
  },
  {
   "cell_type": "code",
   "execution_count": 14,
   "id": "2ee81518-b5c0-436b-bf64-9cc6c5be71d7",
   "metadata": {},
   "outputs": [
    {
     "data": {
      "text/plain": [
       "array([[ 32,  42],\n",
       "       [100, 126]])"
      ]
     },
     "execution_count": 14,
     "metadata": {},
     "output_type": "execute_result"
    }
   ],
   "source": [
    "arr_1 = np.array([[1,2,3,4],[5,6,7,8]])\n",
    "arr_2 = np.array([[9,10],[4,5],[1,2],[3,4]])\n",
    "result = arr_1 @ arr_2\n",
    "result"
   ]
  },
  {
   "cell_type": "markdown",
   "id": "b5519fc0-adc2-49c7-844f-c4d73def53b1",
   "metadata": {},
   "source": [
    "### Q.no14) Find the inverse and determinant of a square matrix."
   ]
  },
  {
   "cell_type": "code",
   "execution_count": 15,
   "id": "22159ac3-5313-472f-b531-494ebdc489ed",
   "metadata": {},
   "outputs": [
    {
     "name": "stdout",
     "output_type": "stream",
     "text": [
      "Determinant 0.9999999999999987\n",
      "Original matrix [[1 2 3]\n",
      " [0 1 4]\n",
      " [5 6 0]]\n",
      "Inverse matrix [[-24.  18.   5.]\n",
      " [ 20. -15.  -4.]\n",
      " [ -5.   4.   1.]]\n"
     ]
    }
   ],
   "source": [
    "square_matrix=  np.array([[1, 2, 3], [0, 1, 4], [5, 6, 0]])\n",
    "determinant = np.linalg.det(square_matrix)\n",
    "print('Determinant',determinant)\n",
    "inverse_matrix = np.linalg.inv(square_matrix)\n",
    "print('Original matrix',square_matrix)\n",
    "print('Inverse matrix',inverse_matrix)"
   ]
  },
  {
   "cell_type": "code",
   "execution_count": null,
   "id": "749f1131-0a5f-44d9-8589-73bccdf2eb4e",
   "metadata": {},
   "outputs": [],
   "source": []
  }
 ],
 "metadata": {
  "kernelspec": {
   "display_name": "Python 3 (ipykernel)",
   "language": "python",
   "name": "python3"
  },
  "language_info": {
   "codemirror_mode": {
    "name": "ipython",
    "version": 3
   },
   "file_extension": ".py",
   "mimetype": "text/x-python",
   "name": "python",
   "nbconvert_exporter": "python",
   "pygments_lexer": "ipython3",
   "version": "3.11.7"
  }
 },
 "nbformat": 4,
 "nbformat_minor": 5
}
